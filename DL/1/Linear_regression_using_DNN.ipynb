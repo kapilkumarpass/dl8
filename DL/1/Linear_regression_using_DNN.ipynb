{
  "nbformat": 4,
  "nbformat_minor": 0,
  "metadata": {
    "colab": {
      "provenance": []
    },
    "kernelspec": {
      "name": "python3",
      "display_name": "Python 3"
    },
    "language_info": {
      "name": "python"
    }
  },
  "cells": [
    {
      "cell_type": "code",
      "source": [
        "import tensorflow as tf\n",
        "import numpy as np\n",
        "import pandas as pd\n",
        "\n",
        "from sklearn import preprocessing\n",
        "from sklearn.model_selection import train_test_split\n",
        "from sklearn.metrics import mean_squared_error"
      ],
      "metadata": {
        "id": "642bSOecxDcf"
      },
      "execution_count": 150,
      "outputs": []
    },
    {
      "cell_type": "code",
      "source": [
        "df = pd.read_csv('HousingData.csv')"
      ],
      "metadata": {
        "id": "Jbg2rb79xFKi"
      },
      "execution_count": 151,
      "outputs": []
    },
    {
      "cell_type": "code",
      "source": [
        "df.head(10)"
      ],
      "metadata": {
        "colab": {
          "base_uri": "https://localhost:8080/",
          "height": 363
        },
        "id": "JHep43E-x7kk",
        "outputId": "94647457-9538-4b1d-9757-eaf32084cced"
      },
      "execution_count": 152,
      "outputs": [
        {
          "output_type": "execute_result",
          "data": {
            "text/plain": [
              "      CRIM    ZN  INDUS  CHAS    NOX     RM    AGE     DIS  RAD  TAX  PTRATIO  \\\n",
              "0  0.00632  18.0   2.31   0.0  0.538  6.575   65.2  4.0900    1  296     15.3   \n",
              "1  0.02731   0.0   7.07   0.0  0.469  6.421   78.9  4.9671    2  242     17.8   \n",
              "2  0.02729   0.0   7.07   0.0  0.469  7.185   61.1  4.9671    2  242     17.8   \n",
              "3  0.03237   0.0   2.18   0.0  0.458  6.998   45.8  6.0622    3  222     18.7   \n",
              "4  0.06905   0.0   2.18   0.0  0.458  7.147   54.2  6.0622    3  222     18.7   \n",
              "5  0.02985   0.0   2.18   0.0  0.458  6.430   58.7  6.0622    3  222     18.7   \n",
              "6  0.08829  12.5   7.87   NaN  0.524  6.012   66.6  5.5605    5  311     15.2   \n",
              "7  0.14455  12.5   7.87   0.0  0.524  6.172   96.1  5.9505    5  311     15.2   \n",
              "8  0.21124  12.5   7.87   0.0  0.524  5.631  100.0  6.0821    5  311     15.2   \n",
              "9  0.17004  12.5   7.87   NaN  0.524  6.004   85.9  6.5921    5  311     15.2   \n",
              "\n",
              "        B  LSTAT  MEDV  \n",
              "0  396.90   4.98  24.0  \n",
              "1  396.90   9.14  21.6  \n",
              "2  392.83   4.03  34.7  \n",
              "3  394.63   2.94  33.4  \n",
              "4  396.90    NaN  36.2  \n",
              "5  394.12   5.21  28.7  \n",
              "6  395.60  12.43  22.9  \n",
              "7  396.90  19.15  27.1  \n",
              "8  386.63  29.93  16.5  \n",
              "9  386.71  17.10  18.9  "
            ],
            "text/html": [
              "\n",
              "  <div id=\"df-6f7f047f-5d1a-4cfe-b799-aeabeb273c3c\">\n",
              "    <div class=\"colab-df-container\">\n",
              "      <div>\n",
              "<style scoped>\n",
              "    .dataframe tbody tr th:only-of-type {\n",
              "        vertical-align: middle;\n",
              "    }\n",
              "\n",
              "    .dataframe tbody tr th {\n",
              "        vertical-align: top;\n",
              "    }\n",
              "\n",
              "    .dataframe thead th {\n",
              "        text-align: right;\n",
              "    }\n",
              "</style>\n",
              "<table border=\"1\" class=\"dataframe\">\n",
              "  <thead>\n",
              "    <tr style=\"text-align: right;\">\n",
              "      <th></th>\n",
              "      <th>CRIM</th>\n",
              "      <th>ZN</th>\n",
              "      <th>INDUS</th>\n",
              "      <th>CHAS</th>\n",
              "      <th>NOX</th>\n",
              "      <th>RM</th>\n",
              "      <th>AGE</th>\n",
              "      <th>DIS</th>\n",
              "      <th>RAD</th>\n",
              "      <th>TAX</th>\n",
              "      <th>PTRATIO</th>\n",
              "      <th>B</th>\n",
              "      <th>LSTAT</th>\n",
              "      <th>MEDV</th>\n",
              "    </tr>\n",
              "  </thead>\n",
              "  <tbody>\n",
              "    <tr>\n",
              "      <th>0</th>\n",
              "      <td>0.00632</td>\n",
              "      <td>18.0</td>\n",
              "      <td>2.31</td>\n",
              "      <td>0.0</td>\n",
              "      <td>0.538</td>\n",
              "      <td>6.575</td>\n",
              "      <td>65.2</td>\n",
              "      <td>4.0900</td>\n",
              "      <td>1</td>\n",
              "      <td>296</td>\n",
              "      <td>15.3</td>\n",
              "      <td>396.90</td>\n",
              "      <td>4.98</td>\n",
              "      <td>24.0</td>\n",
              "    </tr>\n",
              "    <tr>\n",
              "      <th>1</th>\n",
              "      <td>0.02731</td>\n",
              "      <td>0.0</td>\n",
              "      <td>7.07</td>\n",
              "      <td>0.0</td>\n",
              "      <td>0.469</td>\n",
              "      <td>6.421</td>\n",
              "      <td>78.9</td>\n",
              "      <td>4.9671</td>\n",
              "      <td>2</td>\n",
              "      <td>242</td>\n",
              "      <td>17.8</td>\n",
              "      <td>396.90</td>\n",
              "      <td>9.14</td>\n",
              "      <td>21.6</td>\n",
              "    </tr>\n",
              "    <tr>\n",
              "      <th>2</th>\n",
              "      <td>0.02729</td>\n",
              "      <td>0.0</td>\n",
              "      <td>7.07</td>\n",
              "      <td>0.0</td>\n",
              "      <td>0.469</td>\n",
              "      <td>7.185</td>\n",
              "      <td>61.1</td>\n",
              "      <td>4.9671</td>\n",
              "      <td>2</td>\n",
              "      <td>242</td>\n",
              "      <td>17.8</td>\n",
              "      <td>392.83</td>\n",
              "      <td>4.03</td>\n",
              "      <td>34.7</td>\n",
              "    </tr>\n",
              "    <tr>\n",
              "      <th>3</th>\n",
              "      <td>0.03237</td>\n",
              "      <td>0.0</td>\n",
              "      <td>2.18</td>\n",
              "      <td>0.0</td>\n",
              "      <td>0.458</td>\n",
              "      <td>6.998</td>\n",
              "      <td>45.8</td>\n",
              "      <td>6.0622</td>\n",
              "      <td>3</td>\n",
              "      <td>222</td>\n",
              "      <td>18.7</td>\n",
              "      <td>394.63</td>\n",
              "      <td>2.94</td>\n",
              "      <td>33.4</td>\n",
              "    </tr>\n",
              "    <tr>\n",
              "      <th>4</th>\n",
              "      <td>0.06905</td>\n",
              "      <td>0.0</td>\n",
              "      <td>2.18</td>\n",
              "      <td>0.0</td>\n",
              "      <td>0.458</td>\n",
              "      <td>7.147</td>\n",
              "      <td>54.2</td>\n",
              "      <td>6.0622</td>\n",
              "      <td>3</td>\n",
              "      <td>222</td>\n",
              "      <td>18.7</td>\n",
              "      <td>396.90</td>\n",
              "      <td>NaN</td>\n",
              "      <td>36.2</td>\n",
              "    </tr>\n",
              "    <tr>\n",
              "      <th>5</th>\n",
              "      <td>0.02985</td>\n",
              "      <td>0.0</td>\n",
              "      <td>2.18</td>\n",
              "      <td>0.0</td>\n",
              "      <td>0.458</td>\n",
              "      <td>6.430</td>\n",
              "      <td>58.7</td>\n",
              "      <td>6.0622</td>\n",
              "      <td>3</td>\n",
              "      <td>222</td>\n",
              "      <td>18.7</td>\n",
              "      <td>394.12</td>\n",
              "      <td>5.21</td>\n",
              "      <td>28.7</td>\n",
              "    </tr>\n",
              "    <tr>\n",
              "      <th>6</th>\n",
              "      <td>0.08829</td>\n",
              "      <td>12.5</td>\n",
              "      <td>7.87</td>\n",
              "      <td>NaN</td>\n",
              "      <td>0.524</td>\n",
              "      <td>6.012</td>\n",
              "      <td>66.6</td>\n",
              "      <td>5.5605</td>\n",
              "      <td>5</td>\n",
              "      <td>311</td>\n",
              "      <td>15.2</td>\n",
              "      <td>395.60</td>\n",
              "      <td>12.43</td>\n",
              "      <td>22.9</td>\n",
              "    </tr>\n",
              "    <tr>\n",
              "      <th>7</th>\n",
              "      <td>0.14455</td>\n",
              "      <td>12.5</td>\n",
              "      <td>7.87</td>\n",
              "      <td>0.0</td>\n",
              "      <td>0.524</td>\n",
              "      <td>6.172</td>\n",
              "      <td>96.1</td>\n",
              "      <td>5.9505</td>\n",
              "      <td>5</td>\n",
              "      <td>311</td>\n",
              "      <td>15.2</td>\n",
              "      <td>396.90</td>\n",
              "      <td>19.15</td>\n",
              "      <td>27.1</td>\n",
              "    </tr>\n",
              "    <tr>\n",
              "      <th>8</th>\n",
              "      <td>0.21124</td>\n",
              "      <td>12.5</td>\n",
              "      <td>7.87</td>\n",
              "      <td>0.0</td>\n",
              "      <td>0.524</td>\n",
              "      <td>5.631</td>\n",
              "      <td>100.0</td>\n",
              "      <td>6.0821</td>\n",
              "      <td>5</td>\n",
              "      <td>311</td>\n",
              "      <td>15.2</td>\n",
              "      <td>386.63</td>\n",
              "      <td>29.93</td>\n",
              "      <td>16.5</td>\n",
              "    </tr>\n",
              "    <tr>\n",
              "      <th>9</th>\n",
              "      <td>0.17004</td>\n",
              "      <td>12.5</td>\n",
              "      <td>7.87</td>\n",
              "      <td>NaN</td>\n",
              "      <td>0.524</td>\n",
              "      <td>6.004</td>\n",
              "      <td>85.9</td>\n",
              "      <td>6.5921</td>\n",
              "      <td>5</td>\n",
              "      <td>311</td>\n",
              "      <td>15.2</td>\n",
              "      <td>386.71</td>\n",
              "      <td>17.10</td>\n",
              "      <td>18.9</td>\n",
              "    </tr>\n",
              "  </tbody>\n",
              "</table>\n",
              "</div>\n",
              "      <button class=\"colab-df-convert\" onclick=\"convertToInteractive('df-6f7f047f-5d1a-4cfe-b799-aeabeb273c3c')\"\n",
              "              title=\"Convert this dataframe to an interactive table.\"\n",
              "              style=\"display:none;\">\n",
              "        \n",
              "  <svg xmlns=\"http://www.w3.org/2000/svg\" height=\"24px\"viewBox=\"0 0 24 24\"\n",
              "       width=\"24px\">\n",
              "    <path d=\"M0 0h24v24H0V0z\" fill=\"none\"/>\n",
              "    <path d=\"M18.56 5.44l.94 2.06.94-2.06 2.06-.94-2.06-.94-.94-2.06-.94 2.06-2.06.94zm-11 1L8.5 8.5l.94-2.06 2.06-.94-2.06-.94L8.5 2.5l-.94 2.06-2.06.94zm10 10l.94 2.06.94-2.06 2.06-.94-2.06-.94-.94-2.06-.94 2.06-2.06.94z\"/><path d=\"M17.41 7.96l-1.37-1.37c-.4-.4-.92-.59-1.43-.59-.52 0-1.04.2-1.43.59L10.3 9.45l-7.72 7.72c-.78.78-.78 2.05 0 2.83L4 21.41c.39.39.9.59 1.41.59.51 0 1.02-.2 1.41-.59l7.78-7.78 2.81-2.81c.8-.78.8-2.07 0-2.86zM5.41 20L4 18.59l7.72-7.72 1.47 1.35L5.41 20z\"/>\n",
              "  </svg>\n",
              "      </button>\n",
              "      \n",
              "  <style>\n",
              "    .colab-df-container {\n",
              "      display:flex;\n",
              "      flex-wrap:wrap;\n",
              "      gap: 12px;\n",
              "    }\n",
              "\n",
              "    .colab-df-convert {\n",
              "      background-color: #E8F0FE;\n",
              "      border: none;\n",
              "      border-radius: 50%;\n",
              "      cursor: pointer;\n",
              "      display: none;\n",
              "      fill: #1967D2;\n",
              "      height: 32px;\n",
              "      padding: 0 0 0 0;\n",
              "      width: 32px;\n",
              "    }\n",
              "\n",
              "    .colab-df-convert:hover {\n",
              "      background-color: #E2EBFA;\n",
              "      box-shadow: 0px 1px 2px rgba(60, 64, 67, 0.3), 0px 1px 3px 1px rgba(60, 64, 67, 0.15);\n",
              "      fill: #174EA6;\n",
              "    }\n",
              "\n",
              "    [theme=dark] .colab-df-convert {\n",
              "      background-color: #3B4455;\n",
              "      fill: #D2E3FC;\n",
              "    }\n",
              "\n",
              "    [theme=dark] .colab-df-convert:hover {\n",
              "      background-color: #434B5C;\n",
              "      box-shadow: 0px 1px 3px 1px rgba(0, 0, 0, 0.15);\n",
              "      filter: drop-shadow(0px 1px 2px rgba(0, 0, 0, 0.3));\n",
              "      fill: #FFFFFF;\n",
              "    }\n",
              "  </style>\n",
              "\n",
              "      <script>\n",
              "        const buttonEl =\n",
              "          document.querySelector('#df-6f7f047f-5d1a-4cfe-b799-aeabeb273c3c button.colab-df-convert');\n",
              "        buttonEl.style.display =\n",
              "          google.colab.kernel.accessAllowed ? 'block' : 'none';\n",
              "\n",
              "        async function convertToInteractive(key) {\n",
              "          const element = document.querySelector('#df-6f7f047f-5d1a-4cfe-b799-aeabeb273c3c');\n",
              "          const dataTable =\n",
              "            await google.colab.kernel.invokeFunction('convertToInteractive',\n",
              "                                                     [key], {});\n",
              "          if (!dataTable) return;\n",
              "\n",
              "          const docLinkHtml = 'Like what you see? Visit the ' +\n",
              "            '<a target=\"_blank\" href=https://colab.research.google.com/notebooks/data_table.ipynb>data table notebook</a>'\n",
              "            + ' to learn more about interactive tables.';\n",
              "          element.innerHTML = '';\n",
              "          dataTable['output_type'] = 'display_data';\n",
              "          await google.colab.output.renderOutput(dataTable, element);\n",
              "          const docLink = document.createElement('div');\n",
              "          docLink.innerHTML = docLinkHtml;\n",
              "          element.appendChild(docLink);\n",
              "        }\n",
              "      </script>\n",
              "    </div>\n",
              "  </div>\n",
              "  "
            ]
          },
          "metadata": {},
          "execution_count": 152
        }
      ]
    },
    {
      "cell_type": "code",
      "source": [
        "df.isnull().sum()"
      ],
      "metadata": {
        "colab": {
          "base_uri": "https://localhost:8080/"
        },
        "id": "eK_JRSl03_wj",
        "outputId": "39bca078-2b2d-42ba-adfa-af3f61797a72"
      },
      "execution_count": 153,
      "outputs": [
        {
          "output_type": "execute_result",
          "data": {
            "text/plain": [
              "CRIM       20\n",
              "ZN         20\n",
              "INDUS      20\n",
              "CHAS       20\n",
              "NOX         0\n",
              "RM          0\n",
              "AGE        20\n",
              "DIS         0\n",
              "RAD         0\n",
              "TAX         0\n",
              "PTRATIO     0\n",
              "B           0\n",
              "LSTAT      20\n",
              "MEDV        0\n",
              "dtype: int64"
            ]
          },
          "metadata": {},
          "execution_count": 153
        }
      ]
    },
    {
      "cell_type": "code",
      "source": [
        "df = df.fillna(df.mean())"
      ],
      "metadata": {
        "id": "Afpk5CC0y9b9"
      },
      "execution_count": 154,
      "outputs": []
    },
    {
      "cell_type": "code",
      "source": [
        "df.isnull().sum()"
      ],
      "metadata": {
        "colab": {
          "base_uri": "https://localhost:8080/"
        },
        "id": "leDzLvIQzAMl",
        "outputId": "cc2bc552-bb4f-4863-8d0d-b112c59cb009"
      },
      "execution_count": 129,
      "outputs": [
        {
          "output_type": "execute_result",
          "data": {
            "text/plain": [
              "CRIM       0\n",
              "ZN         0\n",
              "INDUS      0\n",
              "CHAS       0\n",
              "NOX        0\n",
              "RM         0\n",
              "AGE        0\n",
              "DIS        0\n",
              "RAD        0\n",
              "TAX        0\n",
              "PTRATIO    0\n",
              "B          0\n",
              "LSTAT      0\n",
              "MEDV       0\n",
              "dtype: int64"
            ]
          },
          "metadata": {},
          "execution_count": 129
        }
      ]
    },
    {
      "cell_type": "code",
      "source": [
        "from sklearn.model_selection import train_test_split\n",
        "\n",
        "X = df.loc[:, df.columns != 'MEDV']\n",
        "y = df.loc[:, df.columns == 'MEDV']\n",
        "X_train, X_test, y_train, y_test = train_test_split(X, y, test_size=0.3, random_state=123)"
      ],
      "metadata": {
        "id": "lldSDwHh3WzH"
      },
      "execution_count": 155,
      "outputs": []
    },
    {
      "cell_type": "code",
      "source": [
        "from keras.models import Sequential\n",
        "from keras.layers import Dense\n",
        "\n",
        "model = Sequential()\n",
        "\n",
        "model.add(Dense(128, input_shape=(13, ), activation='relu', name='dense_1'))\n",
        "model.add(Dense(64, activation='relu', name='dense_2'))\n",
        "model.add(Dense(1, activation='linear', name='dense_output'))\n",
        "\n",
        "model.compile(optimizer='adam', loss='mse', metrics=['mae'])\n",
        "model.summary()"
      ],
      "metadata": {
        "colab": {
          "base_uri": "https://localhost:8080/"
        },
        "id": "yq5NjVaQy5GG",
        "outputId": "171cebbc-38bc-44b9-8348-b8caf52f2f47"
      },
      "execution_count": 156,
      "outputs": [
        {
          "output_type": "stream",
          "name": "stdout",
          "text": [
            "Model: \"sequential_11\"\n",
            "_________________________________________________________________\n",
            " Layer (type)                Output Shape              Param #   \n",
            "=================================================================\n",
            " dense_1 (Dense)             (None, 128)               1792      \n",
            "                                                                 \n",
            " dense_2 (Dense)             (None, 64)                8256      \n",
            "                                                                 \n",
            " dense_output (Dense)        (None, 1)                 65        \n",
            "                                                                 \n",
            "=================================================================\n",
            "Total params: 10,113\n",
            "Trainable params: 10,113\n",
            "Non-trainable params: 0\n",
            "_________________________________________________________________\n"
          ]
        }
      ]
    },
    {
      "cell_type": "code",
      "source": [
        "history = model.fit(X_train, y_train, epochs=100, validation_split=0.05, verbose = 1)"
      ],
      "metadata": {
        "colab": {
          "base_uri": "https://localhost:8080/"
        },
        "id": "OiP4Pyxcy7Ag",
        "outputId": "c300130c-1f42-42d3-a51f-6fa3f3da3051"
      },
      "execution_count": 157,
      "outputs": [
        {
          "output_type": "stream",
          "name": "stdout",
          "text": [
            "Epoch 1/100\n",
            "11/11 [==============================] - 1s 21ms/step - loss: 461.9542 - mae: 17.3898 - val_loss: 276.3577 - val_mae: 13.5316\n",
            "Epoch 2/100\n",
            "11/11 [==============================] - 0s 5ms/step - loss: 183.2941 - mae: 10.9899 - val_loss: 148.7288 - val_mae: 8.7009\n",
            "Epoch 3/100\n",
            "11/11 [==============================] - 0s 8ms/step - loss: 114.1164 - mae: 8.4912 - val_loss: 124.4178 - val_mae: 10.0273\n",
            "Epoch 4/100\n",
            "11/11 [==============================] - 0s 6ms/step - loss: 80.1348 - mae: 6.4638 - val_loss: 127.0121 - val_mae: 10.1228\n",
            "Epoch 5/100\n",
            "11/11 [==============================] - 0s 6ms/step - loss: 70.3762 - mae: 6.1050 - val_loss: 89.8823 - val_mae: 7.9760\n",
            "Epoch 6/100\n",
            "11/11 [==============================] - 0s 5ms/step - loss: 64.7785 - mae: 5.9642 - val_loss: 82.9432 - val_mae: 7.0912\n",
            "Epoch 7/100\n",
            "11/11 [==============================] - 0s 7ms/step - loss: 57.6055 - mae: 5.4901 - val_loss: 83.2959 - val_mae: 7.0604\n",
            "Epoch 8/100\n",
            "11/11 [==============================] - 0s 8ms/step - loss: 54.4780 - mae: 5.3520 - val_loss: 82.5038 - val_mae: 6.1989\n",
            "Epoch 9/100\n",
            "11/11 [==============================] - 0s 5ms/step - loss: 52.9194 - mae: 5.2004 - val_loss: 82.9314 - val_mae: 7.5389\n",
            "Epoch 10/100\n",
            "11/11 [==============================] - 0s 6ms/step - loss: 55.9702 - mae: 5.4518 - val_loss: 86.2342 - val_mae: 7.9346\n",
            "Epoch 11/100\n",
            "11/11 [==============================] - 0s 5ms/step - loss: 51.0214 - mae: 5.1629 - val_loss: 79.3329 - val_mae: 7.2991\n",
            "Epoch 12/100\n",
            "11/11 [==============================] - 0s 5ms/step - loss: 48.8211 - mae: 4.8124 - val_loss: 81.9965 - val_mae: 7.6360\n",
            "Epoch 13/100\n",
            "11/11 [==============================] - 0s 5ms/step - loss: 49.3869 - mae: 4.9771 - val_loss: 80.0087 - val_mae: 7.5398\n",
            "Epoch 14/100\n",
            "11/11 [==============================] - 0s 7ms/step - loss: 49.5249 - mae: 4.9841 - val_loss: 77.8460 - val_mae: 7.4015\n",
            "Epoch 15/100\n",
            "11/11 [==============================] - 0s 5ms/step - loss: 47.6847 - mae: 4.9637 - val_loss: 72.1489 - val_mae: 6.6006\n",
            "Epoch 16/100\n",
            "11/11 [==============================] - 0s 6ms/step - loss: 51.3228 - mae: 5.0315 - val_loss: 75.7445 - val_mae: 5.8440\n",
            "Epoch 17/100\n",
            "11/11 [==============================] - 0s 6ms/step - loss: 44.9844 - mae: 4.5833 - val_loss: 70.8731 - val_mae: 6.3174\n",
            "Epoch 18/100\n",
            "11/11 [==============================] - 0s 7ms/step - loss: 44.2713 - mae: 4.7578 - val_loss: 69.5669 - val_mae: 6.1455\n",
            "Epoch 19/100\n",
            "11/11 [==============================] - 0s 5ms/step - loss: 44.1145 - mae: 4.6467 - val_loss: 68.8927 - val_mae: 5.9955\n",
            "Epoch 20/100\n",
            "11/11 [==============================] - 0s 5ms/step - loss: 44.2749 - mae: 4.6312 - val_loss: 69.3226 - val_mae: 6.5601\n",
            "Epoch 21/100\n",
            "11/11 [==============================] - 0s 7ms/step - loss: 42.2808 - mae: 4.5354 - val_loss: 67.1837 - val_mae: 6.3777\n",
            "Epoch 22/100\n",
            "11/11 [==============================] - 0s 6ms/step - loss: 42.1200 - mae: 4.5545 - val_loss: 68.7071 - val_mae: 5.6601\n",
            "Epoch 23/100\n",
            "11/11 [==============================] - 0s 7ms/step - loss: 43.0733 - mae: 4.4771 - val_loss: 66.6456 - val_mae: 5.8773\n",
            "Epoch 24/100\n",
            "11/11 [==============================] - 0s 9ms/step - loss: 41.9685 - mae: 4.4253 - val_loss: 68.0711 - val_mae: 6.9519\n",
            "Epoch 25/100\n",
            "11/11 [==============================] - 0s 10ms/step - loss: 46.1827 - mae: 5.0623 - val_loss: 83.6484 - val_mae: 7.9387\n",
            "Epoch 26/100\n",
            "11/11 [==============================] - 0s 8ms/step - loss: 52.9272 - mae: 5.3506 - val_loss: 84.2829 - val_mae: 5.8142\n",
            "Epoch 27/100\n",
            "11/11 [==============================] - 0s 9ms/step - loss: 50.6311 - mae: 4.9621 - val_loss: 73.1024 - val_mae: 7.5342\n",
            "Epoch 28/100\n",
            "11/11 [==============================] - 0s 9ms/step - loss: 46.6989 - mae: 5.1326 - val_loss: 64.7405 - val_mae: 6.7606\n",
            "Epoch 29/100\n",
            "11/11 [==============================] - 0s 10ms/step - loss: 41.3362 - mae: 4.5544 - val_loss: 65.5649 - val_mae: 5.6374\n",
            "Epoch 30/100\n",
            "11/11 [==============================] - 0s 8ms/step - loss: 40.3978 - mae: 4.3832 - val_loss: 63.8062 - val_mae: 6.7992\n",
            "Epoch 31/100\n",
            "11/11 [==============================] - 0s 11ms/step - loss: 40.3730 - mae: 4.6452 - val_loss: 63.8828 - val_mae: 5.6868\n",
            "Epoch 32/100\n",
            "11/11 [==============================] - 0s 9ms/step - loss: 36.5244 - mae: 4.3027 - val_loss: 63.6021 - val_mae: 5.7057\n",
            "Epoch 33/100\n",
            "11/11 [==============================] - 0s 9ms/step - loss: 34.8336 - mae: 4.0733 - val_loss: 60.4491 - val_mae: 6.2106\n",
            "Epoch 34/100\n",
            "11/11 [==============================] - 0s 9ms/step - loss: 34.8740 - mae: 4.0881 - val_loss: 64.2116 - val_mae: 7.0219\n",
            "Epoch 35/100\n",
            "11/11 [==============================] - 0s 7ms/step - loss: 36.6712 - mae: 4.2900 - val_loss: 62.8160 - val_mae: 5.6316\n",
            "Epoch 36/100\n",
            "11/11 [==============================] - 0s 7ms/step - loss: 35.5312 - mae: 4.2123 - val_loss: 58.1392 - val_mae: 6.0270\n",
            "Epoch 37/100\n",
            "11/11 [==============================] - 0s 7ms/step - loss: 33.4528 - mae: 3.9971 - val_loss: 61.0530 - val_mae: 5.7713\n",
            "Epoch 38/100\n",
            "11/11 [==============================] - 0s 7ms/step - loss: 39.7628 - mae: 4.5321 - val_loss: 68.4986 - val_mae: 5.4803\n",
            "Epoch 39/100\n",
            "11/11 [==============================] - 0s 8ms/step - loss: 37.4095 - mae: 4.4546 - val_loss: 76.1300 - val_mae: 5.8706\n",
            "Epoch 40/100\n",
            "11/11 [==============================] - 0s 10ms/step - loss: 42.1303 - mae: 4.7041 - val_loss: 65.3635 - val_mae: 5.4462\n",
            "Epoch 41/100\n",
            "11/11 [==============================] - 0s 8ms/step - loss: 37.7185 - mae: 4.5607 - val_loss: 58.9722 - val_mae: 5.7782\n",
            "Epoch 42/100\n",
            "11/11 [==============================] - 0s 7ms/step - loss: 33.0171 - mae: 4.0999 - val_loss: 60.0395 - val_mae: 5.4678\n",
            "Epoch 43/100\n",
            "11/11 [==============================] - 0s 8ms/step - loss: 34.4287 - mae: 4.0435 - val_loss: 59.7029 - val_mae: 5.9450\n",
            "Epoch 44/100\n",
            "11/11 [==============================] - 0s 7ms/step - loss: 35.7253 - mae: 4.4283 - val_loss: 84.6807 - val_mae: 5.9006\n",
            "Epoch 45/100\n",
            "11/11 [==============================] - 0s 7ms/step - loss: 39.9492 - mae: 4.6296 - val_loss: 59.4723 - val_mae: 6.4320\n",
            "Epoch 46/100\n",
            "11/11 [==============================] - 0s 7ms/step - loss: 38.1097 - mae: 4.5391 - val_loss: 107.1783 - val_mae: 7.4358\n",
            "Epoch 47/100\n",
            "11/11 [==============================] - 0s 9ms/step - loss: 36.7430 - mae: 4.3651 - val_loss: 62.9030 - val_mae: 7.1538\n",
            "Epoch 48/100\n",
            "11/11 [==============================] - 0s 8ms/step - loss: 35.2146 - mae: 4.3887 - val_loss: 91.8465 - val_mae: 6.5135\n",
            "Epoch 49/100\n",
            "11/11 [==============================] - 0s 10ms/step - loss: 37.5197 - mae: 4.3648 - val_loss: 66.8900 - val_mae: 7.0806\n",
            "Epoch 50/100\n",
            "11/11 [==============================] - 0s 9ms/step - loss: 39.5634 - mae: 4.8955 - val_loss: 96.2763 - val_mae: 6.8400\n",
            "Epoch 51/100\n",
            "11/11 [==============================] - 0s 11ms/step - loss: 40.3843 - mae: 4.8001 - val_loss: 56.3935 - val_mae: 5.7085\n",
            "Epoch 52/100\n",
            "11/11 [==============================] - 0s 9ms/step - loss: 38.3664 - mae: 4.4355 - val_loss: 62.2915 - val_mae: 6.3760\n",
            "Epoch 53/100\n",
            "11/11 [==============================] - 0s 9ms/step - loss: 36.7747 - mae: 4.6867 - val_loss: 62.4367 - val_mae: 5.5840\n",
            "Epoch 54/100\n",
            "11/11 [==============================] - 0s 8ms/step - loss: 30.2728 - mae: 3.8589 - val_loss: 57.0524 - val_mae: 6.2040\n",
            "Epoch 55/100\n",
            "11/11 [==============================] - 0s 6ms/step - loss: 36.4822 - mae: 4.4870 - val_loss: 96.9716 - val_mae: 6.7725\n",
            "Epoch 56/100\n",
            "11/11 [==============================] - 0s 6ms/step - loss: 36.8651 - mae: 4.3855 - val_loss: 66.9086 - val_mae: 5.4277\n",
            "Epoch 57/100\n",
            "11/11 [==============================] - 0s 7ms/step - loss: 31.6467 - mae: 3.9254 - val_loss: 61.8684 - val_mae: 5.6936\n",
            "Epoch 58/100\n",
            "11/11 [==============================] - 0s 6ms/step - loss: 30.4388 - mae: 3.9228 - val_loss: 60.6794 - val_mae: 5.8132\n",
            "Epoch 59/100\n",
            "11/11 [==============================] - 0s 5ms/step - loss: 33.9749 - mae: 4.2717 - val_loss: 82.2878 - val_mae: 6.1833\n",
            "Epoch 60/100\n",
            "11/11 [==============================] - 0s 7ms/step - loss: 34.1875 - mae: 4.4031 - val_loss: 67.7406 - val_mae: 5.7593\n",
            "Epoch 61/100\n",
            "11/11 [==============================] - 0s 7ms/step - loss: 29.5800 - mae: 3.9110 - val_loss: 54.8724 - val_mae: 6.1135\n",
            "Epoch 62/100\n",
            "11/11 [==============================] - 0s 5ms/step - loss: 31.0860 - mae: 4.1935 - val_loss: 63.5525 - val_mae: 5.3235\n",
            "Epoch 63/100\n",
            "11/11 [==============================] - 0s 7ms/step - loss: 36.5381 - mae: 4.3102 - val_loss: 63.4079 - val_mae: 5.9406\n",
            "Epoch 64/100\n",
            "11/11 [==============================] - 0s 7ms/step - loss: 36.0383 - mae: 4.2620 - val_loss: 57.9404 - val_mae: 5.6317\n",
            "Epoch 65/100\n",
            "11/11 [==============================] - 0s 5ms/step - loss: 34.2396 - mae: 4.4333 - val_loss: 68.7417 - val_mae: 5.5853\n",
            "Epoch 66/100\n",
            "11/11 [==============================] - 0s 5ms/step - loss: 28.0815 - mae: 3.8333 - val_loss: 73.2038 - val_mae: 5.8513\n",
            "Epoch 67/100\n",
            "11/11 [==============================] - 0s 7ms/step - loss: 29.3075 - mae: 3.8933 - val_loss: 57.2589 - val_mae: 5.4154\n",
            "Epoch 68/100\n",
            "11/11 [==============================] - 0s 5ms/step - loss: 27.9397 - mae: 3.8700 - val_loss: 62.2091 - val_mae: 5.4028\n",
            "Epoch 69/100\n",
            "11/11 [==============================] - 0s 5ms/step - loss: 27.4387 - mae: 3.7764 - val_loss: 73.4279 - val_mae: 5.7065\n",
            "Epoch 70/100\n",
            "11/11 [==============================] - 0s 5ms/step - loss: 30.9348 - mae: 3.9964 - val_loss: 67.8310 - val_mae: 7.4702\n",
            "Epoch 71/100\n",
            "11/11 [==============================] - 0s 6ms/step - loss: 36.6910 - mae: 4.7097 - val_loss: 106.8318 - val_mae: 7.7491\n",
            "Epoch 72/100\n",
            "11/11 [==============================] - 0s 7ms/step - loss: 41.5793 - mae: 4.9757 - val_loss: 61.4664 - val_mae: 5.4241\n",
            "Epoch 73/100\n",
            "11/11 [==============================] - 0s 5ms/step - loss: 28.7558 - mae: 3.8879 - val_loss: 69.5083 - val_mae: 5.6505\n",
            "Epoch 74/100\n",
            "11/11 [==============================] - 0s 7ms/step - loss: 26.1147 - mae: 3.6209 - val_loss: 61.3291 - val_mae: 6.4964\n",
            "Epoch 75/100\n",
            "11/11 [==============================] - 0s 5ms/step - loss: 32.7649 - mae: 4.4204 - val_loss: 70.4501 - val_mae: 5.7240\n",
            "Epoch 76/100\n",
            "11/11 [==============================] - 0s 5ms/step - loss: 27.6010 - mae: 3.8206 - val_loss: 73.6129 - val_mae: 5.7606\n",
            "Epoch 77/100\n",
            "11/11 [==============================] - 0s 7ms/step - loss: 28.1067 - mae: 3.8048 - val_loss: 60.2818 - val_mae: 5.4307\n",
            "Epoch 78/100\n",
            "11/11 [==============================] - 0s 7ms/step - loss: 25.8270 - mae: 3.6809 - val_loss: 61.2639 - val_mae: 5.3360\n",
            "Epoch 79/100\n",
            "11/11 [==============================] - 0s 7ms/step - loss: 26.6372 - mae: 3.6671 - val_loss: 60.5791 - val_mae: 5.5835\n",
            "Epoch 80/100\n",
            "11/11 [==============================] - 0s 6ms/step - loss: 29.8125 - mae: 4.0227 - val_loss: 67.1572 - val_mae: 5.8530\n",
            "Epoch 81/100\n",
            "11/11 [==============================] - 0s 6ms/step - loss: 31.2039 - mae: 3.9874 - val_loss: 57.8139 - val_mae: 5.3081\n",
            "Epoch 82/100\n",
            "11/11 [==============================] - 0s 7ms/step - loss: 26.4164 - mae: 3.6942 - val_loss: 61.9295 - val_mae: 5.4694\n",
            "Epoch 83/100\n",
            "11/11 [==============================] - 0s 5ms/step - loss: 25.5628 - mae: 3.6315 - val_loss: 66.7249 - val_mae: 5.6186\n",
            "Epoch 84/100\n",
            "11/11 [==============================] - 0s 7ms/step - loss: 27.3540 - mae: 3.8647 - val_loss: 55.9303 - val_mae: 5.2156\n",
            "Epoch 85/100\n",
            "11/11 [==============================] - 0s 5ms/step - loss: 26.4205 - mae: 3.6953 - val_loss: 65.3503 - val_mae: 5.6801\n",
            "Epoch 86/100\n",
            "11/11 [==============================] - 0s 7ms/step - loss: 24.1672 - mae: 3.5345 - val_loss: 60.2370 - val_mae: 5.3712\n",
            "Epoch 87/100\n",
            "11/11 [==============================] - 0s 7ms/step - loss: 24.9404 - mae: 3.5810 - val_loss: 50.7502 - val_mae: 5.3073\n",
            "Epoch 88/100\n",
            "11/11 [==============================] - 0s 5ms/step - loss: 30.0011 - mae: 4.1120 - val_loss: 66.0397 - val_mae: 5.6374\n",
            "Epoch 89/100\n",
            "11/11 [==============================] - 0s 7ms/step - loss: 26.3918 - mae: 3.6935 - val_loss: 68.9390 - val_mae: 5.8264\n",
            "Epoch 90/100\n",
            "11/11 [==============================] - 0s 5ms/step - loss: 27.5514 - mae: 3.8704 - val_loss: 58.3299 - val_mae: 5.3726\n",
            "Epoch 91/100\n",
            "11/11 [==============================] - 0s 5ms/step - loss: 30.0219 - mae: 3.9825 - val_loss: 64.9455 - val_mae: 5.4734\n",
            "Epoch 92/100\n",
            "11/11 [==============================] - 0s 7ms/step - loss: 24.1478 - mae: 3.6288 - val_loss: 56.8390 - val_mae: 5.5996\n",
            "Epoch 93/100\n",
            "11/11 [==============================] - 0s 5ms/step - loss: 25.0271 - mae: 3.6221 - val_loss: 55.0207 - val_mae: 5.6951\n",
            "Epoch 94/100\n",
            "11/11 [==============================] - 0s 7ms/step - loss: 30.5451 - mae: 4.1880 - val_loss: 51.6361 - val_mae: 5.3451\n",
            "Epoch 95/100\n",
            "11/11 [==============================] - 0s 5ms/step - loss: 30.6690 - mae: 4.2179 - val_loss: 56.6520 - val_mae: 5.2751\n",
            "Epoch 96/100\n",
            "11/11 [==============================] - 0s 5ms/step - loss: 24.7298 - mae: 3.7406 - val_loss: 77.0797 - val_mae: 6.1323\n",
            "Epoch 97/100\n",
            "11/11 [==============================] - 0s 5ms/step - loss: 26.6888 - mae: 3.8873 - val_loss: 69.0765 - val_mae: 5.6175\n",
            "Epoch 98/100\n",
            "11/11 [==============================] - 0s 6ms/step - loss: 25.4599 - mae: 3.6705 - val_loss: 68.2419 - val_mae: 5.6758\n",
            "Epoch 99/100\n",
            "11/11 [==============================] - 0s 8ms/step - loss: 23.2449 - mae: 3.4867 - val_loss: 70.7091 - val_mae: 5.7909\n",
            "Epoch 100/100\n",
            "11/11 [==============================] - 0s 5ms/step - loss: 31.4930 - mae: 4.0569 - val_loss: 52.8188 - val_mae: 5.6289\n"
          ]
        }
      ]
    },
    {
      "cell_type": "code",
      "source": [
        "mse_nn, mae_nn = model.evaluate(X_test, y_test)\n",
        "\n",
        "print('Mean squared error on test data: ', mse_nn)\n",
        "print('Mean absolute error on test data: ', mae_nn)\n",
        "     "
      ],
      "metadata": {
        "colab": {
          "base_uri": "https://localhost:8080/"
        },
        "id": "3uH8kFnx317C",
        "outputId": "2fb39e5a-7bc8-4ea2-d9af-d43dd3a0082f"
      },
      "execution_count": 158,
      "outputs": [
        {
          "output_type": "stream",
          "name": "stdout",
          "text": [
            "5/5 [==============================] - 0s 3ms/step - loss: 37.5880 - mae: 4.9768\n",
            "Mean squared error on test data:  37.58800506591797\n",
            "Mean absolute error on test data:  4.976834774017334\n"
          ]
        }
      ]
    },
    {
      "cell_type": "code",
      "source": [
        "y_pred = model.predict(X_test)"
      ],
      "metadata": {
        "colab": {
          "base_uri": "https://localhost:8080/"
        },
        "id": "8swEKNyFyXdQ",
        "outputId": "18778981-1879-40a6-e2c7-69cb4d63babb"
      },
      "execution_count": 159,
      "outputs": [
        {
          "output_type": "stream",
          "name": "stdout",
          "text": [
            "5/5 [==============================] - 0s 3ms/step\n"
          ]
        }
      ]
    },
    {
      "cell_type": "code",
      "source": [
        "mse = mean_squared_error(y_test, y_pred)**(0.5)\n",
        "mse"
      ],
      "metadata": {
        "colab": {
          "base_uri": "https://localhost:8080/"
        },
        "id": "1Ai5cqioyfpK",
        "outputId": "9a83cdae-c5cd-431c-e609-058f5e4dd94e"
      },
      "execution_count": 160,
      "outputs": [
        {
          "output_type": "execute_result",
          "data": {
            "text/plain": [
              "6.13090700255803"
            ]
          },
          "metadata": {},
          "execution_count": 160
        }
      ]
    },
    {
      "cell_type": "code",
      "source": [
        "new_input = np.array([[0.006,18.0,2.3,0.0,0.53,6.5,65.2,4.0,1.0,296.0,15.0,396.9,4.98]])\n",
        "predictions = model.predict(new_input)\n",
        "print(\"Predicted house price:\", predictions[0][0])\n"
      ],
      "metadata": {
        "colab": {
          "base_uri": "https://localhost:8080/"
        },
        "id": "c9uAYbStz2nY",
        "outputId": "b0390233-1364-4a12-826a-509e4b22c266"
      },
      "execution_count": 161,
      "outputs": [
        {
          "output_type": "stream",
          "name": "stdout",
          "text": [
            "1/1 [==============================] - 0s 60ms/step\n",
            "Predicted house price: 34.296597\n"
          ]
        }
      ]
    }
  ]
}